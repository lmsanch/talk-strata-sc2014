{
 "metadata": {
  "name": "",
  "signature": "sha256:2d4c3be85dd1cf53a7356dd30c676c1439beb27a738f1bd40a072bbc952edad9"
 },
 "nbformat": 3,
 "nbformat_minor": 0,
 "worksheets": [
  {
   "cells": [
    {
     "cell_type": "code",
     "collapsed": false,
     "input": [
      "from IPython.html import widgets\n",
      "from IPython.display import display\n",
      "from networkX import *\n",
      "from eventful_graph import EventfulGraph, empty_eventfulgraph_hook\n",
      "from widget_forcedirectedgraph import ForceDirectedGraphWidget, publish_js\n",
      "publish_js()"
     ],
     "language": "python",
     "metadata": {},
     "outputs": [
      {
       "ename": "ImportError",
       "evalue": "No module named NetworkX",
       "output_type": "pyerr",
       "traceback": [
        "\u001b[0;31m---------------------------------------------------------------------------\u001b[0m\n\u001b[0;31mImportError\u001b[0m                               Traceback (most recent call last)",
        "\u001b[0;32m<ipython-input-4-fb5fd97785ca>\u001b[0m in \u001b[0;36m<module>\u001b[0;34m()\u001b[0m\n\u001b[1;32m      1\u001b[0m \u001b[0;32mfrom\u001b[0m \u001b[0mIPython\u001b[0m\u001b[0;34m.\u001b[0m\u001b[0mhtml\u001b[0m \u001b[0;32mimport\u001b[0m \u001b[0mwidgets\u001b[0m\u001b[0;34m\u001b[0m\u001b[0m\n\u001b[1;32m      2\u001b[0m \u001b[0;32mfrom\u001b[0m \u001b[0mIPython\u001b[0m\u001b[0;34m.\u001b[0m\u001b[0mdisplay\u001b[0m \u001b[0;32mimport\u001b[0m \u001b[0mdisplay\u001b[0m\u001b[0;34m\u001b[0m\u001b[0m\n\u001b[0;32m----> 3\u001b[0;31m \u001b[0;32mfrom\u001b[0m \u001b[0mNetworkX\u001b[0m \u001b[0;32mimport\u001b[0m \u001b[0;34m*\u001b[0m\u001b[0;34m\u001b[0m\u001b[0m\n\u001b[0m\u001b[1;32m      4\u001b[0m \u001b[0;32mfrom\u001b[0m \u001b[0meventful_graph\u001b[0m \u001b[0;32mimport\u001b[0m \u001b[0mEventfulGraph\u001b[0m\u001b[0;34m,\u001b[0m \u001b[0mempty_eventfulgraph_hook\u001b[0m\u001b[0;34m\u001b[0m\u001b[0m\n\u001b[1;32m      5\u001b[0m \u001b[0;32mfrom\u001b[0m \u001b[0mwidget_forcedirectedgraph\u001b[0m \u001b[0;32mimport\u001b[0m \u001b[0mForceDirectedGraphWidget\u001b[0m\u001b[0;34m,\u001b[0m \u001b[0mpublish_js\u001b[0m\u001b[0;34m\u001b[0m\u001b[0m\n",
        "\u001b[0;31mImportError\u001b[0m: No module named NetworkX"
       ]
      }
     ],
     "prompt_number": 4
    },
    {
     "cell_type": "heading",
     "level": 1,
     "metadata": {},
     "source": [
      "Barabasi Albert Graph"
     ]
    },
    {
     "cell_type": "code",
     "collapsed": false,
     "input": [
      "import networkx.generators.random_graphs as random_graphs\n",
      "\n",
      "# Add a listener to the eventful graph's construction method.\n",
      "# If an eventful graph is created, build and show a widget\n",
      "# for the graph.\n",
      "def handle_graph(graph):\n",
      "    print(graph.graph._sleep)\n",
      "    popup = widgets.PopupWidget()\n",
      "    popup.description = \"NetworkX Barabasi Albert Graph\"\n",
      "    popup.button_text = \"Render Window\"\n",
      "    popup.set_css({\n",
      "        'width': '420px',\n",
      "        'height': '350px'}, selector='modal')\n",
      "    graph_widget = ForceDirectedGraphWidget(graph)\n",
      "    popup.children = [graph_widget]\n",
      "    display(popup)\n",
      "EventfulGraph.on_constructed(handle_graph)\n",
      "\n",
      "# Replace the empty graph of the networkx classic module with\n",
      "# the eventful graph type.\n",
      "random_graphs.empty_graph = empty_eventfulgraph_hook(sleep=0.5)\n",
      "\n",
      "# Graph!\n",
      "random_graphs.barabasi_albert_graph(15, 2)"
     ],
     "language": "python",
     "metadata": {},
     "outputs": [
      {
       "ename": "NameError",
       "evalue": "name 'EventfulGraph' is not defined",
       "output_type": "pyerr",
       "traceback": [
        "\u001b[0;31m---------------------------------------------------------------------------\u001b[0m\n\u001b[0;31mNameError\u001b[0m                                 Traceback (most recent call last)",
        "\u001b[0;32m<ipython-input-2-9f26e2c83168>\u001b[0m in \u001b[0;36m<module>\u001b[0;34m()\u001b[0m\n\u001b[1;32m     15\u001b[0m     \u001b[0mpopup\u001b[0m\u001b[0;34m.\u001b[0m\u001b[0mchildren\u001b[0m \u001b[0;34m=\u001b[0m \u001b[0;34m[\u001b[0m\u001b[0mgraph_widget\u001b[0m\u001b[0;34m]\u001b[0m\u001b[0;34m\u001b[0m\u001b[0m\n\u001b[1;32m     16\u001b[0m     \u001b[0mdisplay\u001b[0m\u001b[0;34m(\u001b[0m\u001b[0mpopup\u001b[0m\u001b[0;34m)\u001b[0m\u001b[0;34m\u001b[0m\u001b[0m\n\u001b[0;32m---> 17\u001b[0;31m \u001b[0mEventfulGraph\u001b[0m\u001b[0;34m.\u001b[0m\u001b[0mon_constructed\u001b[0m\u001b[0;34m(\u001b[0m\u001b[0mhandle_graph\u001b[0m\u001b[0;34m)\u001b[0m\u001b[0;34m\u001b[0m\u001b[0m\n\u001b[0m\u001b[1;32m     18\u001b[0m \u001b[0;34m\u001b[0m\u001b[0m\n\u001b[1;32m     19\u001b[0m \u001b[0;31m# Replace the empty graph of the networkx classic module with\u001b[0m\u001b[0;34m\u001b[0m\u001b[0;34m\u001b[0m\u001b[0m\n",
        "\u001b[0;31mNameError\u001b[0m: name 'EventfulGraph' is not defined"
       ]
      }
     ],
     "prompt_number": 2
    },
    {
     "cell_type": "code",
     "collapsed": false,
     "input": [],
     "language": "python",
     "metadata": {},
     "outputs": []
    }
   ],
   "metadata": {}
  }
 ]
}