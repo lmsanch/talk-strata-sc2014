{
 "metadata": {
  "name": "",
  "signature": "sha256:54b514be06e7e16abb0fd7798637e92f517284b72fec1b4205577e87eeec59d7"
 },
 "nbformat": 3,
 "nbformat_minor": 0,
 "worksheets": [
  {
   "cells": [
    {
     "cell_type": "heading",
     "level": 1,
     "metadata": {},
     "source": [
      "Getting close to your data with Python and JavaScript"
     ]
    },
    {
     "cell_type": "code",
     "collapsed": false,
     "input": [
      "from IPython.display import display, Image, HTML\n",
      "from talktools import website, nbviewer"
     ],
     "language": "python",
     "metadata": {},
     "outputs": [],
     "prompt_number": 5
    },
    {
     "cell_type": "markdown",
     "metadata": {},
     "source": [
      "### Brian E. Granger (@ellisonbg)\n",
      "\n",
      "### Physics Professor, Cal Poly\n",
      "\n",
      "<img src=\"images/calpoly_logo.png\" height=\"65px\">\n",
      "\n",
      "### Core developer, IPython Project\n",
      "\n",
      "<img src=\"images/ipython_logo.png\" height=\"65px\">"
     ]
    },
    {
     "cell_type": "heading",
     "level": 2,
     "metadata": {},
     "source": [
      "The IPython Project"
     ]
    },
    {
     "cell_type": "markdown",
     "metadata": {},
     "source": [
      "IPython is an open source, interactive computing environment for Python and other languages."
     ]
    },
    {
     "cell_type": "code",
     "collapsed": false,
     "input": [
      "website('http://ipython.org')"
     ],
     "language": "python",
     "metadata": {},
     "outputs": [
      {
       "html": [
        "<iframe src=\"http://ipython.org\"  width=\"800\" height=\"450\">\n",
        "</iframe>"
       ],
       "metadata": {},
       "output_type": "pyout",
       "prompt_number": 2,
       "text": [
        "<IPython.core.display.HTML at 0x10519bb10>"
       ]
      }
     ],
     "prompt_number": 2
    },
    {
     "cell_type": "markdown",
     "metadata": {},
     "source": [
      "* Started in 2001 by Fernando Perez, who continues to lead the project from UC Berkeley\n",
      "* Open source, BSD license"
     ]
    },
    {
     "cell_type": "heading",
     "level": 3,
     "metadata": {},
     "source": [
      "Funding"
     ]
    },
    {
     "cell_type": "markdown",
     "metadata": {},
     "source": [
      "* Over the past 13 years, much of IPython has been \"funded\" by volunteer developer time.\n",
      "* Past funding: NASA, DOD, NIH, Enthought Corporation\n",
      "* Current funding:\n",
      "\n",
      "<img src=\"images/sloan-logo.png\" width=\"300px\">\n",
      "<img src=\"images/microsoft-logo.png\" width=\"300px\">\n",
      "<img src=\"images/simons-logo.png\" width=\"300px\">\n",
      "<img src=\"images/nsf-logo.png\" width=\"75px\">\n",
      "<img src=\"images/rackspace-logo.png\" width=\"300px\">"
     ]
    },
    {
     "cell_type": "heading",
     "level": 3,
     "metadata": {},
     "source": [
      "Development team"
     ]
    },
    {
     "cell_type": "markdown",
     "metadata": {},
     "source": [
      "* IPython is developed by a talented team of $\\approx15$ core developers and a larger community of $\\approx100$ contributors.\n",
      "* Through the above funding sources, there are currently 6 full time people working on IPython at UC Berkeley and Cal Poly."
     ]
    },
    {
     "cell_type": "code",
     "collapsed": false,
     "input": [
      "import ipythonproject"
     ],
     "language": "python",
     "metadata": {},
     "outputs": [],
     "prompt_number": 3
    },
    {
     "cell_type": "code",
     "collapsed": false,
     "input": [
      "ipythonproject.core_devs()"
     ],
     "language": "python",
     "metadata": {},
     "outputs": [
      {
       "html": [
        "<table><tr><td><img src=\"ipythonteam/fperez.jpg\" style=\"height: 150px; text-align: center; margin-left: auto; margin-right: auto;\"/><h3 style=\"text-align: center;\">Fernando Perez</h3></td><td><img src=\"ipythonteam/ellisonbg.jpg\" style=\"height: 150px; text-align: center; margin-left: auto; margin-right: auto;\"/><h3 style=\"text-align: center;\">Brian Granger</h3></td><td><img src=\"ipythonteam/minrk.jpg\" style=\"height: 150px; text-align: center; margin-left: auto; margin-right: auto;\"/><h3 style=\"text-align: center;\">Min Ragan-Kelley</h3></td><td><img src=\"ipythonteam/takluyver.jpg\" style=\"height: 150px; text-align: center; margin-left: auto; margin-right: auto;\"/><h3 style=\"text-align: center;\">Thomas Kluyver</h3></td></tr><tr><td><img src=\"ipythonteam/matthias.jpg\" style=\"height: 150px; text-align: center; margin-left: auto; margin-right: auto;\"/><h3 style=\"text-align: center;\">Matthias Bussonnier</h3></td><td><img src=\"ipythonteam/jdfreder.jpg\" style=\"height: 150px; text-align: center; margin-left: auto; margin-right: auto;\"/><h3 style=\"text-align: center;\">Jonathan Frederic</h3></td><td><img src=\"ipythonteam/ivanov.jpg\" style=\"height: 150px; text-align: center; margin-left: auto; margin-right: auto;\"/><h3 style=\"text-align: center;\">Paul Ivanov</h3></td><td><img src=\"ipythonteam/epatters.jpg\" style=\"height: 150px; text-align: center; margin-left: auto; margin-right: auto;\"/><h3 style=\"text-align: center;\">Evan Patterson</h3></td></tr><tr><td><img src=\"ipythonteam/damianavila.jpg\" style=\"height: 150px; text-align: center; margin-left: auto; margin-right: auto;\"/><h3 style=\"text-align: center;\">Damian Avila</h3></td><td><img src=\"ipythonteam/brad.jpg\" style=\"height: 150px; text-align: center; margin-left: auto; margin-right: auto;\"/><h3 style=\"text-align: center;\">Brad Froehle</h3></td><td><img src=\"ipythonteam/zsailer.jpg\" style=\"height: 150px; text-align: center; margin-left: auto; margin-right: auto;\"/><h3 style=\"text-align: center;\">Zach Sailer</h3></td><td><img src=\"ipythonteam/rkern.jpg\" style=\"height: 150px; text-align: center; margin-left: auto; margin-right: auto;\"/><h3 style=\"text-align: center;\">Robert Kern</h3></td></tr><tr><td><img src=\"ipythonteam/jorgen.jpg\" style=\"height: 150px; text-align: center; margin-left: auto; margin-right: auto;\"/><h3 style=\"text-align: center;\">Jorgen Stenarson</h3></td><td><img src=\"ipythonteam/jdmarch.jpg\" style=\"height: 150px; text-align: center; margin-left: auto; margin-right: auto;\"/><h3 style=\"text-align: center;\">Jonathan March</h3></td><td><img src=\"ipythonteam/rgbkrk.jpg\" style=\"height: 150px; text-align: center; margin-left: auto; margin-right: auto;\"/><h3 style=\"text-align: center;\">Kyle Kelley</h3></td></tr></table>"
       ],
       "metadata": {},
       "output_type": "display_data",
       "text": [
        "<IPython.core.display.HTML at 0x105196f90>"
       ]
      }
     ],
     "prompt_number": 4
    },
    {
     "cell_type": "markdown",
     "metadata": {},
     "source": [
      "Notice that the **output** of the above Python code is an HTML table with embedded images. IPython generalizes the notion of output to include rich formats: HTML, PNG, JPEG, PDF, JavaScript, LaTeX, etc. This means that any Python object can declare rich representations that will be rendered and saved in the notebook."
     ]
    },
    {
     "cell_type": "heading",
     "level": 2,
     "metadata": {},
     "source": [
      "The IPython Notebook"
     ]
    },
    {
     "cell_type": "markdown",
     "metadata": {},
     "source": [
      "The IPython Notebook is a web-based interactive computing environment that spans the full range of data related activities:\n",
      "\n",
      "1. Individual exploration, analysis and visualization\n",
      "2. Debugging, testing\n",
      "3. Production runs\n",
      "4. Parallel computing\n",
      "5. Collaboration\n",
      "6. Publication\n",
      "7. Presentation\n",
      "8. Teaching/Learning\n",
      "\n",
      "How does IPython target these different activities?"
     ]
    },
    {
     "cell_type": "heading",
     "level": 3,
     "metadata": {},
     "source": [
      "Interactive exploration"
     ]
    },
    {
     "cell_type": "markdown",
     "metadata": {},
     "source": [
      "The central focus of IPython is the writing and running of code. We try to make this as pleasant as possible:\n",
      "\n",
      "* Multiline editing\n",
      "* Tab completion\n",
      "* Integrated help\n",
      "* Syntax highlighting\n",
      "* System shell access\n",
      "\n",
      "Let's download some stock data into a Pandas `DataFrame` and then visualize the time series using Vincent/Vega/d3."
     ]
    },
    {
     "cell_type": "code",
     "collapsed": false,
     "input": [
      "import vincent\n",
      "import pandas as pd\n",
      "vincent.initialize_notebook()"
     ],
     "language": "python",
     "metadata": {},
     "outputs": []
    },
    {
     "cell_type": "code",
     "collapsed": false,
     "input": [
      "import pandas.io.data as web\n",
      "\n",
      "all_data = {}\n",
      "for ticker in ['AAPL', 'GOOG', 'IBM', 'YHOO', 'MSFT']:\n",
      "    all_data[ticker] = web.get_data_yahoo(ticker, '1/1/2010', '1/1/2013')\n",
      "price = pd.DataFrame({tic: data['Adj Close'] for tic, data in all_data.items()})"
     ],
     "language": "python",
     "metadata": {},
     "outputs": []
    },
    {
     "cell_type": "markdown",
     "metadata": {},
     "source": [
      "In the Notebook `DataFrame` objects are represented as formatted HTML tables:"
     ]
    },
    {
     "cell_type": "code",
     "collapsed": false,
     "input": [
      "price[0:10]"
     ],
     "language": "python",
     "metadata": {},
     "outputs": []
    },
    {
     "cell_type": "code",
     "collapsed": false,
     "input": [
      "line = vincent.Line(price[['GOOG', 'AAPL', 'IBM', 'YHOO', 'MSFT']], width=600, height=300)\n",
      "line.axis_titles(x='Date', y='Price')\n",
      "line.legend(title='Ticker')\n",
      "display(line)"
     ],
     "language": "python",
     "metadata": {},
     "outputs": []
    },
    {
     "cell_type": "heading",
     "level": 3,
     "metadata": {},
     "source": [
      "Multiple backend languages"
     ]
    },
    {
     "cell_type": "markdown",
     "metadata": {},
     "source": [
      "Data science is a multi-language activity. R. Python. Julia. Scala. Etc. The IPython architecture is language agnostic.\n",
      "\n",
      "Let's fit a linear model in R and visualize the results:"
     ]
    },
    {
     "cell_type": "code",
     "collapsed": false,
     "input": [
      "import numpy as np\n",
      "X = np.array([0,1,2,3,4])\n",
      "Y = np.array([3,5,4,6,7])\n",
      "%load_ext rmagic"
     ],
     "language": "python",
     "metadata": {},
     "outputs": []
    },
    {
     "cell_type": "markdown",
     "metadata": {},
     "source": [
      "The `%%R` syntax tells IPython to run the rest of the cell as R code:"
     ]
    },
    {
     "cell_type": "code",
     "collapsed": false,
     "input": [
      "%%R -i X,Y -o XYcoef\n",
      "XYlm = lm(Y~X)\n",
      "XYcoef = coef(XYlm)\n",
      "print(summary(XYlm))\n",
      "par(mfrow=c(2,2))\n",
      "plot(XYlm)"
     ],
     "language": "python",
     "metadata": {},
     "outputs": []
    },
    {
     "cell_type": "markdown",
     "metadata": {},
     "source": [
      "This `%%language` syntax is an IPython specific extension to the Python language. This \"magic command syntax\" allows Python code to call out to a wide range of other languages (Ruby, Bash, Julia, Fortran, Perl, Octave, Matlab, etc.)"
     ]
    },
    {
     "cell_type": "heading",
     "level": 4,
     "metadata": {},
     "source": [
      "Native kernels"
     ]
    },
    {
     "cell_type": "markdown",
     "metadata": {},
     "source": [
      "In the IPython architecture, the **kernel** is a separate process that runs the user's code and returns the output back to the frontend (Notebook, Terminal, etc.). Kernels talk to frontends using a well documented message protocol (JSON over ZeroMQ and WebSockets). The default kernel that ships with IPython knows how to run Python code. However, there are now kernels in other languages:\n",
      "\n",
      "* Julia (https://github.com/JuliaLang/IJulia.jl)\n",
      "* Ruby (https://github.com/minrk/iruby)\n",
      "* Haskell (https://github.com/gibiansky/IHaskell)\n",
      "* Scala (https://github.com/Bridgewater/scala-notebook)\n",
      "* node.js (https://gist.github.com/Carreau/4279371)\n",
      "* Go (https://github.com/takluyver/igo)\n",
      "* R and Matlab are in the works\n",
      "\n",
      "By later this year, all users of the IPython Notebook will have the option to choose what type of kernel to use for each Notebook.\n",
      "\n",
      "Here is a notebook that runs code in the native Julia kernel:"
     ]
    },
    {
     "cell_type": "code",
     "collapsed": false,
     "input": [
      "website(\"http://nbviewer.ipython.org/url/jdj.mit.edu/~stevenj/IJulia%20Preview.ipynb\")"
     ],
     "language": "python",
     "metadata": {},
     "outputs": []
    },
    {
     "cell_type": "heading",
     "level": 3,
     "metadata": {},
     "source": [
      "Notebook documents"
     ]
    },
    {
     "cell_type": "markdown",
     "metadata": {},
     "source": [
      "Notebook documents are just JSON files stored on your filesystem. These files store *everything* related to a computation:\n",
      "\n",
      "* Code\n",
      "* Output (text, HTML, plots, images, JavaScript)\n",
      "* Narrative text (Markdown with embedded LaTeX math)\n",
      "\n",
      "Notebook documents can be shared:\n",
      "\n",
      "* GitHub repos\n",
      "* Email\n",
      "* Dropbox\n",
      "* Internal shared file systems\n",
      "\n",
      "Notebook documents can be viewed by anyone on the web through http://nbviewer.ipython.org"
     ]
    },
    {
     "cell_type": "code",
     "collapsed": false,
     "input": [
      "website(\"http://nbviewer.ipython.org\")"
     ],
     "language": "python",
     "metadata": {},
     "outputs": []
    },
    {
     "cell_type": "markdown",
     "metadata": {},
     "source": [
      "**This allows people to compose and share reproducible stories that involve code and data.**\n",
      "\n",
      "Earlier this year, Randall Munroe (xkcd) published a comic about regular expression golf. Peter Norvig from Google wanted to explore some of the algorithms related to this comic and shared his explorations as a notebook on nbviewer:"
     ]
    },
    {
     "cell_type": "code",
     "collapsed": false,
     "input": [
      "website(\"http://nbviewer.ipython.org/url/norvig.com/ipython/xkcd1313.ipynb\")"
     ],
     "language": "python",
     "metadata": {},
     "outputs": []
    },
    {
     "cell_type": "code",
     "collapsed": false,
     "input": [],
     "language": "python",
     "metadata": {},
     "outputs": []
    }
   ],
   "metadata": {}
  }
 ]
}